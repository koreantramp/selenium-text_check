import time
from selenium import webdriver
from selenium.webdriver.common.keys import Keys
from selenium.webdriver.common.by import By
from bs4 import BeautifulSoup


fp = open("1.txt", 'r', encoding='utf-8')
text = fp.read()
fp.close()

ready_list = []
while (len(text) > 500):
    temp_str = text[:500]  # 처음 500글자를 보관 
    last_space = temp_str.rfind(' ')   # 500번째 전 가장 가까운 공백을 찾아서 보관 
    temp_str = text[0:last_space]   # 위 위치로 문자열 범위 재조정 
    print(len(temp_str))
    ready_list.append(temp_str)   # 재조정된 문자열을 리스트에 추가 

    text = text[last_space:]   # 최초의 텍스트 중 추가된 문자열 제거 

ready_list.append(text)   # 500글자 이하 나머지 조각 리스트에 추가 
# print(len(ready_list))
# print(ready_list)


dv = webdriver.Chrome()
dv.get("http://www.naver.com")

elem = dv.find_element(By.ID, "query")
elem.send_keys("맞춤법 검사기")
elem.send_keys(Keys.RETURN)
time.sleep(2)

textarea = dv.find_element(By.CLASS_NAME, "txt_gray")

new_str = ""

for ready in ready_list:
    textarea.clear()
    textarea.send_keys(ready)

    elem = dv.find_element(By.CLASS_NAME, "btn_check")
    elem.click()

    time.sleep(2)
    soup = BeautifulSoup(dv.page_source, "html.parser")
    st = soup.select("p._result_text.stand_txt")[0].text
    new_str += st 

fp = open("result.txt", 'w', encoding='utf-8')
fp.write(new_str)
fp.close()
