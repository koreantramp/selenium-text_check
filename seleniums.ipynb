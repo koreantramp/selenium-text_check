{
 "cells": [
  {
   "cell_type": "code",
   "execution_count": 1,
   "metadata": {},
   "outputs": [
    {
     "name": "stdout",
     "output_type": "stream",
     "text": [
      "497\n",
      "496\n",
      "496\n",
      "498\n"
     ]
    }
   ],
   "source": [
    "import time\n",
    "from selenium import webdriver\n",
    "from selenium.webdriver.common.keys import Keys\n",
    "from selenium.webdriver.common.by import By\n",
    "from bs4 import BeautifulSoup\n",
    "\n",
    "\n",
    "fp = open(\"1.txt\", 'r', encoding='utf-8')\n",
    "text = fp.read()\n",
    "fp.close()\n",
    "\n",
    "ready_list = []\n",
    "while (len(text) > 500):\n",
    "    temp_str = text[:500]  # 처음 500글자를 보관 \n",
    "    last_space = temp_str.rfind(' ')   # 500번째 전 가장 가까운 공백을 찾아서 보관 \n",
    "    temp_str = text[0:last_space]   # 위 위치로 문자열 범위 재조정 \n",
    "    print(len(temp_str))\n",
    "    ready_list.append(temp_str)   # 재조정된 문자열을 리스트에 추가 \n",
    "\n",
    "    text = text[last_space:]   # 최초의 텍스트 중 추가된 문자열 제거 \n",
    "\n",
    "ready_list.append(text)   # 500글자 이하 나머지 조각 리스트에 추가 \n",
    "# print(len(ready_list))\n",
    "# print(ready_list)\n",
    "\n",
    "\n",
    "dv = webdriver.Chrome()\n",
    "dv.get(\"http://www.naver.com\")\n",
    "\n",
    "elem = dv.find_element(By.ID, \"query\")\n",
    "elem.send_keys(\"맞춤법 검사기\")\n",
    "elem.send_keys(Keys.RETURN)\n",
    "time.sleep(2)\n",
    "\n",
    "textarea = dv.find_element(By.CLASS_NAME, \"txt_gray\")\n",
    "\n",
    "new_str = \"\"\n",
    "\n",
    "for ready in ready_list:\n",
    "    textarea.clear()\n",
    "    textarea.send_keys(ready)\n",
    "\n",
    "    elem = dv.find_element(By.CLASS_NAME, \"btn_check\")\n",
    "    elem.click()\n",
    "\n",
    "    time.sleep(2)\n",
    "    soup = BeautifulSoup(dv.page_source, \"html.parser\")\n",
    "    st = soup.select(\"p._result_text.stand_txt\")[0].text\n",
    "    new_str += st \n",
    "\n",
    "fp = open(\"result.txt\", 'w', encoding='utf-8')\n",
    "fp.write(new_str)\n",
    "fp.close()\n"
   ]
  }
 ],
 "metadata": {
  "kernelspec": {
   "display_name": "Python 3.11.2 64-bit",
   "language": "python",
   "name": "python3"
  },
  "language_info": {
   "codemirror_mode": {
    "name": "ipython",
    "version": 3
   },
   "file_extension": ".py",
   "mimetype": "text/x-python",
   "name": "python",
   "nbconvert_exporter": "python",
   "pygments_lexer": "ipython3",
   "version": "3.11.2"
  },
  "orig_nbformat": 4,
  "vscode": {
   "interpreter": {
    "hash": "1a1af0ee75eeea9e2e1ee996c87e7a2b11a0bebd85af04bb136d915cefc0abce"
   }
  }
 },
 "nbformat": 4,
 "nbformat_minor": 2
}
